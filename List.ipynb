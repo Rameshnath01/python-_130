{
 "cells": [
  {
   "cell_type": "code",
   "execution_count": 1,
   "id": "ddd384fa-e1f8-45b7-9171-c36b333d7ea2",
   "metadata": {},
   "outputs": [],
   "source": [
    "# python collection\n",
    "# list \n",
    "# tuple\n",
    "# dict\n",
    "# set\n"
   ]
  },
  {
   "cell_type": "code",
   "execution_count": 2,
   "id": "d603e412-6a5d-4e6e-a6a4-edadd3dc8106",
   "metadata": {},
   "outputs": [],
   "source": [
    "# list\n",
    "# -Indexing\n",
    "# -Multiple and duplicte data\n",
    "# -ordered\n",
    "# -Mutable"
   ]
  },
  {
   "cell_type": "code",
   "execution_count": 3,
   "id": "21a11a4c-6e2d-47ec-ba43-f0ca5b5f0c72",
   "metadata": {},
   "outputs": [
    {
     "name": "stdout",
     "output_type": "stream",
     "text": [
      "<class 'list'>\n",
      "<class 'list'>\n",
      "[1, 2, 3, 4, 5, 6, 7, 8, 9, 0]\n",
      "['apple', 'banana', 'cat', 'dog']\n"
     ]
    }
   ],
   "source": [
    "a = list()\n",
    "a = [1,2,3,4,5,6,7,8,9,0]\n",
    "b = [\"apple\",\"banana\",\"cat\",\"dog\"]\n",
    "print(type(a))\n",
    "print(type(b))\n",
    "print(a)\n",
    "print(b)"
   ]
  },
  {
   "cell_type": "code",
   "execution_count": 6,
   "id": "d786b6cd-b474-4037-8bf6-b88228d7d3aa",
   "metadata": {},
   "outputs": [
    {
     "name": "stdout",
     "output_type": "stream",
     "text": [
      "apple\n",
      "['apple', 'banana', 'cat', 'dog']\n",
      "['apple', 'cat']\n"
     ]
    }
   ],
   "source": [
    "a = [1,2,3,4,5,6,7,8,9,0]\n",
    "b = [\"apple\",\"banana\",\"cat\",\"dog\"]\n",
    "print(b[0])\n",
    "print(b[0:5])\n",
    "print(b[0:5:2])"
   ]
  },
  {
   "cell_type": "code",
   "execution_count": 4,
   "id": "afe5d800-28be-4d62-9265-a9b27bc5603f",
   "metadata": {},
   "outputs": [
    {
     "name": "stdout",
     "output_type": "stream",
     "text": [
      "[1, 2, 3, 4, 5, 6, 7, 8, 9, 0, 'apple', 'banana', 'cat', 'dog']\n"
     ]
    }
   ],
   "source": [
    "a = [1,2,3,4,5,6,7,8,9,0]\n",
    "b = [\"apple\",\"banana\",\"cat\",\"dog\"]\n",
    "c = a + b \n",
    "print(c)"
   ]
  },
  {
   "cell_type": "code",
   "execution_count": 5,
   "id": "449d964e-9978-4f9b-bd58-6719ed323042",
   "metadata": {},
   "outputs": [
    {
     "name": "stdout",
     "output_type": "stream",
     "text": [
      "['apple', 'banana', 'cat', 'dog', 'apple', 'banana', 'cat', 'dog']\n"
     ]
    }
   ],
   "source": [
    "\n",
    "b = [\"apple\",\"banana\",\"cat\",\"dog\"]\n",
    "print(b*2)"
   ]
  },
  {
   "cell_type": "code",
   "execution_count": 7,
   "id": "a4996c5a-0a94-4f58-b551-a8bbe45ba2a7",
   "metadata": {},
   "outputs": [
    {
     "name": "stdout",
     "output_type": "stream",
     "text": [
      "[1, 2, 3, 4, 5, 6, 7, 8, 9, 0, 1, 2, 3, 4, 5, 6, 7, 8, 9, 0, 1, 2, 3, 4, 5, 6, 7, 8, 9, 0]\n"
     ]
    }
   ],
   "source": [
    "a = [1,2,3,4,5,6,7,8,9,0]\n",
    "print(a*3)"
   ]
  },
  {
   "cell_type": "code",
   "execution_count": 8,
   "id": "e1ce2820-aeef-4da2-86bd-41e9bb84d027",
   "metadata": {},
   "outputs": [],
   "source": [
    "# append() insert() extend()\n"
   ]
  },
  {
   "cell_type": "code",
   "execution_count": 9,
   "id": "e37ab004-cc1b-42e4-92ea-021af550f3d0",
   "metadata": {},
   "outputs": [
    {
     "name": "stdout",
     "output_type": "stream",
     "text": [
      "['apple', 'banana', 'cat', 'dog', 'cat']\n"
     ]
    }
   ],
   "source": [
    "b = [\"apple\",\"banana\",\"cat\",\"dog\"]\n",
    "b.append(\"cat\")\n",
    "print(b)"
   ]
  },
  {
   "cell_type": "code",
   "execution_count": 11,
   "id": "35526eba-a189-4092-9a12-86c85a19ec11",
   "metadata": {},
   "outputs": [],
   "source": [
    "#Create a listL"
   ]
  },
  {
   "cell_type": "code",
   "execution_count": 1,
   "id": "b4a5e02b-9cf4-4db6-9413-20f2b5ba210d",
   "metadata": {},
   "outputs": [
    {
     "name": "stdin",
     "output_type": "stream",
     "text": [
      "Enter n =  4\n",
      "Enter x =  435\n",
      "Enter x =  3635\n",
      "Enter x =  6456\n",
      "Enter x =  636\n"
     ]
    },
    {
     "name": "stdout",
     "output_type": "stream",
     "text": [
      "[435, 3635, 6456, 636]\n"
     ]
    }
   ],
   "source": [
    "a= []\n",
    "n = int(input(\"Enter n = \"))\n",
    "for i in range(n):\n",
    "    x = int(input(\"Enter x = \"))\n",
    "    a.append(x)\n",
    "\n",
    "print(a)"
   ]
  },
  {
   "cell_type": "code",
   "execution_count": 2,
   "id": "f7cd66e9-83b3-4d1f-b49b-77b8bc1f2ad4",
   "metadata": {},
   "outputs": [
    {
     "name": "stdout",
     "output_type": "stream",
     "text": [
      "Min value =  435\n",
      "Max value =  6456\n",
      "Sum value =  11162\n",
      "[435, 636, 3635, 6456]\n",
      "[6456, 3635, 636, 435]\n"
     ]
    }
   ],
   "source": [
    "print(\"Min value = \", min(a))\n",
    "print(\"Max value = \", max(a))\n",
    "print(\"Sum value = \",sum(a))\n",
    "a.sort()\n",
    "print(a)\n",
    "a.reverse()\n",
    "print(a)"
   ]
  },
  {
   "cell_type": "code",
   "execution_count": 2,
   "id": "b04ade26-756d-47c7-b2bb-95e512607ed8",
   "metadata": {},
   "outputs": [
    {
     "name": "stdout",
     "output_type": "stream",
     "text": [
      "['apple', 'banana', 'cat', 'dog']\n"
     ]
    }
   ],
   "source": [
    "b = [\"apple\",\"banana\",\"cat\",\"dog\"]\n",
    "b.sort()\n",
    "print(b)"
   ]
  },
  {
   "cell_type": "code",
   "execution_count": 4,
   "id": "8919076b-266f-44fb-9ae7-697a7e82b94c",
   "metadata": {},
   "outputs": [
    {
     "name": "stdout",
     "output_type": "stream",
     "text": [
      "['apple', 'bat', 'banana', 'cat', 'dog']\n"
     ]
    }
   ],
   "source": [
    "# insert\n",
    "b = [\"apple\",\"banana\",\"cat\",\"dog\"]\n",
    "b.insert(1,\"bat\")\n",
    "print(b)"
   ]
  },
  {
   "cell_type": "code",
   "execution_count": 5,
   "id": "61ce1e27-d18f-41b1-8ea6-eb2cfea5a1e3",
   "metadata": {},
   "outputs": [
    {
     "name": "stdout",
     "output_type": "stream",
     "text": [
      "['apple', 'banana', 'cat', 'dog']\n"
     ]
    }
   ],
   "source": [
    "a = [\"apple\",\"banana\",\"cat\",\"dog\"]\n",
    "b = [1,2,3]\n",
    "b.extend(b)\n",
    "print(a)"
   ]
  },
  {
   "cell_type": "code",
   "execution_count": 8,
   "id": "5081cdb2-39df-4fb6-a779-fb0e022817b8",
   "metadata": {},
   "outputs": [
    {
     "name": "stdout",
     "output_type": "stream",
     "text": [
      "['Apple', 'banana', 'cat', 'dog']\n"
     ]
    }
   ],
   "source": [
    "# edit\n",
    "b = [\"apple\",\"banana\",\"cat\",\"dog\"]\n",
    "b[0] = \"Apple\"\n",
    "print(b)"
   ]
  },
  {
   "cell_type": "code",
   "execution_count": 4,
   "id": "aefcb2e5-8ecd-44ae-86aa-49704e69f251",
   "metadata": {},
   "outputs": [
    {
     "name": "stdout",
     "output_type": "stream",
     "text": [
      "['Apple', 'Banana', 'cat', 'dog']\n"
     ]
    }
   ],
   "source": [
    "b = [\"apple\",\"banana\",\"cat\",\"dog\"]\n",
    "b[0:2] = [\"Apple\", \"Banana\"]\n",
    "print(b)"
   ]
  },
  {
   "cell_type": "code",
   "execution_count": 5,
   "id": "ef98ef54-a1af-4b3b-be6f-60f70d2152b4",
   "metadata": {},
   "outputs": [
    {
     "name": "stdout",
     "output_type": "stream",
     "text": [
      "['banana', 'cat', 'dog']\n"
     ]
    }
   ],
   "source": [
    "# del remove() pop()\n",
    "b = [\"apple\",\"banana\",\"cat\",\"dog\"]\n",
    "del b[0]\n",
    "print(b)"
   ]
  },
  {
   "cell_type": "code",
   "execution_count": 6,
   "id": "6eccf031-a884-4b7b-bf99-b9022c390af6",
   "metadata": {},
   "outputs": [
    {
     "name": "stdout",
     "output_type": "stream",
     "text": [
      "['cat', 'dog']\n"
     ]
    }
   ],
   "source": [
    "b = [\"apple\",\"banana\",\"cat\",\"dog\"]\n",
    "del b[0:2]\n",
    "print(b)"
   ]
  },
  {
   "cell_type": "code",
   "execution_count": 7,
   "id": "2de99616-dd27-40b0-8139-fa4e148e7146",
   "metadata": {},
   "outputs": [
    {
     "name": "stdout",
     "output_type": "stream",
     "text": [
      "['apple', 'cat', 'dog']\n"
     ]
    }
   ],
   "source": [
    "a = [\"apple\",\"banana\",\"cat\",\"dog\"]\n",
    "a.remove(\"banana\")\n",
    "print(a)"
   ]
  },
  {
   "cell_type": "code",
   "execution_count": 8,
   "id": "f844b02b-96c4-4a3d-beb5-b9fddefeae2a",
   "metadata": {},
   "outputs": [
    {
     "name": "stdout",
     "output_type": "stream",
     "text": [
      "apple\n",
      "['banana', 'cat', 'dog']\n"
     ]
    }
   ],
   "source": [
    "# pop()\n",
    "b = [\"apple\",\"banana\",\"cat\",\"dog\"]\n",
    "a = b.pop(0)\n",
    "print(a)\n",
    "print(b)"
   ]
  },
  {
   "cell_type": "code",
   "execution_count": 9,
   "id": "5db8649c-5091-45d9-81e5-6dd82338bf79",
   "metadata": {},
   "outputs": [
    {
     "name": "stdout",
     "output_type": "stream",
     "text": [
      "apple\n",
      "banana\n",
      "cat\n",
      "dog\n"
     ]
    }
   ],
   "source": [
    "# loop in list\n",
    "b = [\"apple\",\"banana\",\"cat\",\"dog\"]\n",
    "for i in b:\n",
    "    print(i)"
   ]
  },
  {
   "cell_type": "code",
   "execution_count": 11,
   "id": "05a69435-b229-4444-90bc-36c6b79ce52f",
   "metadata": {},
   "outputs": [
    {
     "name": "stdout",
     "output_type": "stream",
     "text": [
      "4\n"
     ]
    }
   ],
   "source": [
    "b = [\"apple\",\"banana\",\"cat\",\"dog\"]\n",
    "print(len(b))"
   ]
  },
  {
   "cell_type": "code",
   "execution_count": 12,
   "id": "bf74bb6a-b3cd-4f58-8a1e-bd845583ced4",
   "metadata": {},
   "outputs": [
    {
     "name": "stdout",
     "output_type": "stream",
     "text": [
      "apple\n",
      "banana\n",
      "cat\n",
      "dog\n"
     ]
    }
   ],
   "source": [
    "i = 0\n",
    "b = [\"apple\",\"banana\",\"cat\",\"dog\"]\n",
    "l = len(b)\n",
    "while i<l:\n",
    "    print(b[i])\n",
    "    i = i + 1\n"
   ]
  },
  {
   "cell_type": "code",
   "execution_count": null,
   "id": "ffb5ec50-327f-42e4-a7d8-43e22701bc9e",
   "metadata": {},
   "outputs": [],
   "source": []
  }
 ],
 "metadata": {
  "kernelspec": {
   "display_name": "Python 3 (ipykernel)",
   "language": "python",
   "name": "python3"
  },
  "language_info": {
   "codemirror_mode": {
    "name": "ipython",
    "version": 3
   },
   "file_extension": ".py",
   "mimetype": "text/x-python",
   "name": "python",
   "nbconvert_exporter": "python",
   "pygments_lexer": "ipython3",
   "version": "3.11.7"
  }
 },
 "nbformat": 4,
 "nbformat_minor": 5
}
