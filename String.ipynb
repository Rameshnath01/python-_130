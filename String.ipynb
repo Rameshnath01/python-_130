{
 "cells": [
  {
   "cell_type": "code",
   "execution_count": 1,
   "id": "af5b48f5-32e5-4232-8c2c-08e90700fe33",
   "metadata": {},
   "outputs": [],
   "source": [
    "# String"
   ]
  },
  {
   "cell_type": "code",
   "execution_count": 3,
   "id": "62ec9224-9c6b-4d2b-bb3d-3ad47515d801",
   "metadata": {},
   "outputs": [
    {
     "name": "stdout",
     "output_type": "stream",
     "text": [
      "<class 'str'>\n",
      "<class 'str'>\n",
      "<class 'str'>\n"
     ]
    }
   ],
   "source": [
    "a = \" Hello World \"\n",
    "b = ' Hello WOrld '\n",
    "c = '''Hello World '''\n",
    "print(type(a))\n",
    "print(type(b))\n",
    "print(type(c))\n"
   ]
  },
  {
   "cell_type": "code",
   "execution_count": 4,
   "id": "92ee22b4-cfec-43ce-8070-b03583beb18e",
   "metadata": {},
   "outputs": [
    {
     "name": "stdout",
     "output_type": "stream",
     "text": [
      "Hello world\n"
     ]
    }
   ],
   "source": [
    "a = \"Hello \"\n",
    "b = \"world\"\n",
    "c = a + b\n",
    "print(c)"
   ]
  },
  {
   "cell_type": "code",
   "execution_count": 5,
   "id": "888a3dc9-e8fa-440f-ab8a-f550138dedc0",
   "metadata": {},
   "outputs": [
    {
     "name": "stdout",
     "output_type": "stream",
     "text": [
      " Heello world\n",
      " Heello world\n",
      " Heello world\n",
      " Heello world\n",
      "\n"
     ]
    }
   ],
   "source": [
    "a = \" Heello world\\n\"\n",
    "print(a*4)"
   ]
  },
  {
   "cell_type": "code",
   "execution_count": 6,
   "id": "90e71797-afdc-4112-96ac-ee0ba78cfe75",
   "metadata": {},
   "outputs": [
    {
     "name": "stdout",
     "output_type": "stream",
     "text": [
      "Hello World "
     ]
    }
   ],
   "source": [
    "a = \"Hello World \"\n",
    "for i in a:\n",
    "    print(i, end = \"\")\n",
    "    "
   ]
  },
  {
   "cell_type": "code",
   "execution_count": 2,
   "id": "e80c0371-79ad-4c22-b544-81b6ae1ae497",
   "metadata": {},
   "outputs": [
    {
     "name": "stdout",
     "output_type": "stream",
     "text": [
      " \n"
     ]
    }
   ],
   "source": [
    "# String slicing\n",
    "a = \" Hello World \"\n",
    "print(a[0])"
   ]
  },
  {
   "cell_type": "code",
   "execution_count": 4,
   "id": "3ee5ba44-d8a5-471b-92bd-fb3f27454190",
   "metadata": {},
   "outputs": [
    {
     "name": "stdout",
     "output_type": "stream",
     "text": [
      "H\n",
      "Hello\n",
      "HloWrd\n"
     ]
    }
   ],
   "source": [
    "a = \"Hello World\"\n",
    "print(a[0])\n",
    "print(a[0:5])\n",
    "print(a[0:11:2])"
   ]
  },
  {
   "cell_type": "code",
   "execution_count": 5,
   "id": "75f685e7-53ee-4d14-a6af-d954d5be35d0",
   "metadata": {},
   "outputs": [
    {
     "name": "stdout",
     "output_type": "stream",
     "text": [
      "d\n",
      "dlrOW olleH\n",
      "dlrOW olleH\n"
     ]
    }
   ],
   "source": [
    "a = \"Hello WOrld\"\n",
    "print(a[-1])\n",
    "print(a[-1:-12:-1])\n",
    "print(a[::-1])"
   ]
  },
  {
   "cell_type": "code",
   "execution_count": 7,
   "id": "9dac420e-815d-49cc-9d7d-cdf810703573",
   "metadata": {},
   "outputs": [
    {
     "name": "stdout",
     "output_type": "stream",
     "text": [
      "11\n"
     ]
    }
   ],
   "source": [
    "a = \"Hello World\"\n",
    "count = len(a)\n",
    "print(count)"
   ]
  },
  {
   "cell_type": "code",
   "execution_count": 10,
   "id": "f0102eb3-9934-402f-bc28-a199fc22b986",
   "metadata": {},
   "outputs": [
    {
     "name": "stdout",
     "output_type": "stream",
     "text": [
      "Hello World"
     ]
    }
   ],
   "source": [
    "a = \"Hello World\"\n",
    "l = len(a)\n",
    "for i in range(l):\n",
    "    print(a[i], end = \"\")"
   ]
  },
  {
   "cell_type": "code",
   "execution_count": 11,
   "id": "c999caf7-b8db-42f2-8e6f-957b15b8178c",
   "metadata": {},
   "outputs": [
    {
     "name": "stdout",
     "output_type": "stream",
     "text": [
      "Hello World"
     ]
    }
   ],
   "source": [
    "i = 0\n",
    "a = \"Hello World\"\n",
    "l = len(a)\n",
    "while i<l:\n",
    "    print(a[i],end = \"\")\n",
    "    i = i + 1"
   ]
  },
  {
   "cell_type": "code",
   "execution_count": 12,
   "id": "c2ebe048-27c6-465b-9a4b-a7a2c9278759",
   "metadata": {},
   "outputs": [],
   "source": [
    "# String formatting"
   ]
  },
  {
   "cell_type": "code",
   "execution_count": 16,
   "id": "c5904af8-5b7f-4deb-a1a5-2010fa64a461",
   "metadata": {},
   "outputs": [
    {
     "name": "stdout",
     "output_type": "stream",
     "text": [
      "Hello World I am Ramesh. I am from kanchanpur. I am 24\n"
     ]
    }
   ],
   "source": [
    "name = \"Ramesh\"\n",
    "age = 24\n",
    "add = \"kanchanpur\"\n",
    "\n",
    "info = f\"Hello World I am {name}. I am from {add}. I am {age}\"\n",
    "print(info)"
   ]
  },
  {
   "cell_type": "code",
   "execution_count": 17,
   "id": "64f523f7-ebff-4ffe-b7b1-df151927e9b8",
   "metadata": {},
   "outputs": [
    {
     "name": "stdin",
     "output_type": "stream",
     "text": [
      "Enter n = 3\n",
      "Enter product name =  chauchau\n",
      "Enter price =  20\n",
      "Enter qty =  4\n"
     ]
    },
    {
     "name": "stdout",
     "output_type": "stream",
     "text": [
      "chauchau 20 4 80\n",
      "\n",
      "80\n"
     ]
    },
    {
     "name": "stdin",
     "output_type": "stream",
     "text": [
      "Enter product name =  jhcjh\n",
      "Enter price =  2\n",
      "Enter qty =  3\n"
     ]
    },
    {
     "name": "stdout",
     "output_type": "stream",
     "text": [
      "chauchau 20 4 80\n",
      "jhcjh 2 3 6\n",
      "\n",
      "86\n"
     ]
    },
    {
     "name": "stdin",
     "output_type": "stream",
     "text": [
      "Enter product name =  hdjhd\n",
      "Enter price =  376\n",
      "Enter qty =  37\n"
     ]
    },
    {
     "name": "stdout",
     "output_type": "stream",
     "text": [
      "chauchau 20 4 80\n",
      "jhcjh 2 3 6\n",
      "hdjhd 376 37 13912\n",
      "\n",
      "13998\n"
     ]
    }
   ],
   "source": [
    "all_total = 0\n",
    "info = \"\"\n",
    "n = int(input(\"Enter n =\"))\n",
    "for i in range(n):\n",
    "    name = input(\"Enter product name = \")\n",
    "    price = int(input(\"Enter price = \"))\n",
    "    qty = int(input(\"Enter qty = \"))\n",
    "    total = qty * price\n",
    "    info = info + f\"{name} {price} {qty} {total}\\n\"\n",
    "    all_total = all_total + total\n",
    "    print(info)\n",
    "    print(all_total)"
   ]
  },
  {
   "cell_type": "code",
   "execution_count": 22,
   "id": "939939a3-3228-4ae3-8d64-4fe8daf315e1",
   "metadata": {},
   "outputs": [
    {
     "name": "stdin",
     "output_type": "stream",
     "text": [
      "Enter name = ram\n"
     ]
    },
    {
     "name": "stdout",
     "output_type": "stream",
     "text": [
      "yes 1\n"
     ]
    }
   ],
   "source": [
    "# search in string\n",
    "name = \"Ram shyam hari amit parkash roshani ramesh\"\n",
    "search = input(\"Enter name =\")\n",
    "if search in name:\n",
    "    print(\"yes\",name.count(search))\n",
    "\n",
    "else:\n",
    "    print(\"no\")\n",
    "    "
   ]
  },
  {
   "cell_type": "code",
   "execution_count": 26,
   "id": "3c169fa2-fde8-4aa1-a356-0bc6ecdbaf1c",
   "metadata": {},
   "outputs": [
    {
     "name": "stdin",
     "output_type": "stream",
     "text": [
      "Enter name = Ram\n"
     ]
    },
    {
     "name": "stdout",
     "output_type": "stream",
     "text": [
      "yes 2\n"
     ]
    }
   ],
   "source": [
    "# Search in string\n",
    "name = \"Ram shyam hari amit parkash roshani ramesh\".lower()\n",
    "search = input(\"Enter name =\").lower()\n",
    "if search in name:\n",
    "    print(\"yes\",name.count(search))\n",
    "\n",
    "else:\n",
    "    print(\"no\")\n",
    "    "
   ]
  },
  {
   "cell_type": "code",
   "execution_count": 28,
   "id": "568e7ac1-2ece-435b-af94-51e33ba4a6a7",
   "metadata": {},
   "outputs": [
    {
     "name": "stdout",
     "output_type": "stream",
     "text": [
      "RAM SHYAM ROSHANI HARI RUPESH DIPA \n",
      "ram shyam roshani hari rupesh dipa \n",
      "Ram Shyam Roshani Hari Rupesh dipa \n"
     ]
    }
   ],
   "source": [
    "name = \"Ram Shyam Roshani Hari Rupesh dipa \"\n",
    "print(name.upper())\n",
    "print(name.lower())\n",
    "print(name)"
   ]
  },
  {
   "cell_type": "code",
   "execution_count": 29,
   "id": "235b537c-c359-482d-80f8-f60f214f68d6",
   "metadata": {},
   "outputs": [
    {
     "name": "stdout",
     "output_type": "stream",
     "text": [
      "Harry Shyam Ramesh SIta Gita\n"
     ]
    }
   ],
   "source": [
    "# replace()\n",
    "name = \"Hari Shyam Ramesh SIta Gita\"\n",
    "name = name.replace(\"Hari\",\"Harry\")\n",
    "print(name)"
   ]
  },
  {
   "cell_type": "code",
   "execution_count": 4,
   "id": "7d63e913-4cd6-426d-a4f1-293bc94dc68d",
   "metadata": {},
   "outputs": [
    {
     "name": "stdout",
     "output_type": "stream",
     "text": [
      "parkash bhandari Hari Roshani dipa Deepa \n"
     ]
    }
   ],
   "source": [
    "# repalce()\n",
    "name = \"parkash bhandari Ramesh Roshani dipa Deepa \"\n",
    "name = name.replace(\"Ramesh\",\"Hari\")\n",
    "print(name)"
   ]
  },
  {
   "cell_type": "code",
   "execution_count": 30,
   "id": "5ae9c9ae-4aad-4cae-88a9-2295d6155ae3",
   "metadata": {},
   "outputs": [
    {
     "name": "stdout",
     "output_type": "stream",
     "text": [
      " Shyam Ramesh SIta Gita\n"
     ]
    }
   ],
   "source": [
    "# replace or delete \n",
    "name = \"Hari Shyam Ramesh SIta Gita\"\n",
    "name = name.replace(\"Hari\",\"\")\n",
    "print(name)"
   ]
  },
  {
   "cell_type": "code",
   "execution_count": 31,
   "id": "e86d7032-aecc-4df1-b788-3af40ee99531",
   "metadata": {},
   "outputs": [
    {
     "data": {
      "text/plain": [
       "['Ram', 'Shyam', 'Roshani', 'Hari', 'Rupesh', 'dipa']"
      ]
     },
     "execution_count": 31,
     "metadata": {},
     "output_type": "execute_result"
    }
   ],
   "source": [
    "name = \"Ram Shyam Roshani Hari Rupesh dipa \"\n",
    "name.split()"
   ]
  },
  {
   "cell_type": "code",
   "execution_count": null,
   "id": "84ee647f-ec8e-40c1-b5a1-3840652b61de",
   "metadata": {},
   "outputs": [],
   "source": []
  }
 ],
 "metadata": {
  "kernelspec": {
   "display_name": "Python 3 (ipykernel)",
   "language": "python",
   "name": "python3"
  },
  "language_info": {
   "codemirror_mode": {
    "name": "ipython",
    "version": 3
   },
   "file_extension": ".py",
   "mimetype": "text/x-python",
   "name": "python",
   "nbconvert_exporter": "python",
   "pygments_lexer": "ipython3",
   "version": "3.11.7"
  }
 },
 "nbformat": 4,
 "nbformat_minor": 5
}
