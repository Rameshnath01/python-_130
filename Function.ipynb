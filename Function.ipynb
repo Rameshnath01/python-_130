{
 "cells": [
  {
   "cell_type": "code",
   "execution_count": 1,
   "id": "d9c5a3f3-2753-44d3-8ea3-9db964a1b89d",
   "metadata": {},
   "outputs": [],
   "source": [
    "# Function\n",
    "# pre-defined\n",
    "# User defined"
   ]
  },
  {
   "cell_type": "code",
   "execution_count": 2,
   "id": "af30af1e-c71e-49b0-8bc1-4ad09132a070",
   "metadata": {},
   "outputs": [],
   "source": [
    "# Pre defined Function\n",
    "# print() int() float() str() bool() list() tuple() dict() set()"
   ]
  },
  {
   "cell_type": "code",
   "execution_count": 3,
   "id": "6e00034b-3116-43df-9dd7-d981a081a407",
   "metadata": {},
   "outputs": [],
   "source": [
    "#def <function_name>:\n",
    "#    <operation>\n",
    "\n",
    "# <function_name()>"
   ]
  },
  {
   "cell_type": "code",
   "execution_count": 4,
   "id": "4a254cd1-e32f-4dde-8653-ec2601315e86",
   "metadata": {},
   "outputs": [
    {
     "name": "stdout",
     "output_type": "stream",
     "text": [
      "Hello World\n"
     ]
    }
   ],
   "source": [
    "def hello():                  #funtion define\n",
    "    print(\"Hello World\")\n",
    "\n",
    "hello()                         #function call"
   ]
  },
  {
   "cell_type": "code",
   "execution_count": 6,
   "id": "6fba7ac6-134e-4c1b-a9ef-d4aa0c86f88b",
   "metadata": {},
   "outputs": [
    {
     "name": "stdin",
     "output_type": "stream",
     "text": [
      "Enter l =  100\n",
      "Enter b =  20\n"
     ]
    },
    {
     "name": "stdout",
     "output_type": "stream",
     "text": [
      "2000\n"
     ]
    }
   ],
   "source": [
    "def area():\n",
    "    l = int(input(\"Enter l = \"))     # Local variable\n",
    "    b = int(input(\"Enter b = \"))     # Local variable\n",
    "    a = l*b                          #Local variable\n",
    "    print(a)\n",
    "\n",
    "area()\n",
    "\n",
    "\n",
    "    "
   ]
  },
  {
   "cell_type": "code",
   "execution_count": 8,
   "id": "b50b720d-1b1a-43c4-835e-6a8dbb2add69",
   "metadata": {},
   "outputs": [
    {
     "name": "stdin",
     "output_type": "stream",
     "text": [
      "Enter l =  100\n",
      "Enter b =  20\n"
     ]
    },
    {
     "name": "stdout",
     "output_type": "stream",
     "text": [
      "2000\n"
     ]
    }
   ],
   "source": [
    " l = int(input(\"Enter l = \"))     # global variable\n",
    " b = int(input(\"Enter b = \"))     # global variable\n",
    "\n",
    "def area():\n",
    "    a = l*b                          #Local variable\n",
    "    print(a)\n",
    "\n",
    "area()"
   ]
  },
  {
   "cell_type": "code",
   "execution_count": 10,
   "id": "33745480-72bc-4990-bd43-583fec7b485e",
   "metadata": {},
   "outputs": [
    {
     "name": "stdin",
     "output_type": "stream",
     "text": [
      "Enter l =  20\n",
      "Enter b =  5\n"
     ]
    },
    {
     "name": "stdout",
     "output_type": "stream",
     "text": [
      "100\n"
     ]
    }
   ],
   "source": [
    "# Function with argument\n",
    "def area(l,b):                  # l,b parameter\n",
    "    a = l*b                          #Local variable\n",
    "    print(a)\n",
    "        \n",
    "l = int(input(\"Enter l = \"))     # Local variable\n",
    "b = int(input(\"Enter b = \"))     # Local variable\n",
    "\n",
    "\n",
    "area(l,b)                        #l,b are argument\n",
    "\n"
   ]
  },
  {
   "cell_type": "code",
   "execution_count": 11,
   "id": "6b2194fd-2633-4d5e-9679-3065b22ddd93",
   "metadata": {},
   "outputs": [
    {
     "name": "stdin",
     "output_type": "stream",
     "text": [
      "Enter l =  10\n",
      "Enter b =  5\n"
     ]
    },
    {
     "name": "stdout",
     "output_type": "stream",
     "text": [
      "50\n"
     ]
    }
   ],
   "source": [
    "# Function with argument\n",
    "def area(x,y):                  # l,b parameter\n",
    "    a = x*y                         #Local variable\n",
    "    print(a)\n",
    "        \n",
    "l = int(input(\"Enter l = \"))     # Global variable\n",
    "b = int(input(\"Enter b = \"))     # Global variable\n",
    "\n",
    "\n",
    "area(l,b)                        #l,b are argument\n"
   ]
  },
  {
   "cell_type": "code",
   "execution_count": 16,
   "id": "0f4eda18-2f1a-48de-91c8-c09e4053378c",
   "metadata": {},
   "outputs": [
    {
     "name": "stdin",
     "output_type": "stream",
     "text": [
      "Enter l =  100\n",
      "Enter b =  20\n",
      "Enter h = 3\n"
     ]
    },
    {
     "name": "stdout",
     "output_type": "stream",
     "text": [
      "area =  2000\n",
      "volume =  6000\n"
     ]
    }
   ],
   "source": [
    "def cal(x,y,z):\n",
    "    a = x*y\n",
    "    v = a*z\n",
    "    print(\"area = \", a)\n",
    "    print(\"volume = \",v)\n",
    "\n",
    "l = int(input(\"Enter l = \"))\n",
    "b = int(input(\"Enter b = \"))\n",
    "h = int(input(\"Enter h =\"))\n",
    "cal(l,b,h)                         #l,b,h area argumengt"
   ]
  },
  {
   "cell_type": "code",
   "execution_count": 17,
   "id": "b46746f2-cd7b-4282-a06a-cb216dc1cb68",
   "metadata": {},
   "outputs": [
    {
     "name": "stdin",
     "output_type": "stream",
     "text": [
      "Enter l =  20\n",
      "Enter b =  10\n",
      "Enter h = 2\n"
     ]
    },
    {
     "name": "stdout",
     "output_type": "stream",
     "text": [
      "200\n",
      "400\n"
     ]
    }
   ],
   "source": [
    "def area(x,y):\n",
    "    a = x*y\n",
    "    print(a)\n",
    "\n",
    "def volume(x,y,z):\n",
    "    v = x*y*z\n",
    "    print(v)\n",
    "l = int(input(\"Enter l = \"))\n",
    "b =int(input(\"Enter b = \"))\n",
    "h = int(input(\"Enter h =\"))\n",
    "\n",
    "area(l,b)\n",
    "volume(l,b,h)\n",
    "\n",
    "\n",
    "\n",
    "\n"
   ]
  },
  {
   "cell_type": "code",
   "execution_count": 1,
   "id": "f8338450-1eb6-414b-a7c1-7e8355564286",
   "metadata": {},
   "outputs": [
    {
     "name": "stdin",
     "output_type": "stream",
     "text": [
      "Enter l =  200\n",
      "Enter b =  10\n"
     ]
    },
    {
     "name": "stdout",
     "output_type": "stream",
     "text": [
      "2000\n"
     ]
    }
   ],
   "source": [
    "def area():\n",
    "    global l\n",
    "    l = int(input(\"Enter l = \"))     # Local variable\n",
    "    b = int(input(\"Enter b = \"))     # Local variable\n",
    "    a = l*b                          #Local variable\n",
    "    print(a)\n",
    "\n",
    "area()\n",
    "\n"
   ]
  },
  {
   "cell_type": "code",
   "execution_count": 2,
   "id": "4b2e0e2d-d20a-4a8c-a915-80c799e91301",
   "metadata": {},
   "outputs": [
    {
     "name": "stdout",
     "output_type": "stream",
     "text": [
      "200\n"
     ]
    },
    {
     "ename": "NameError",
     "evalue": "name 'b' is not defined",
     "output_type": "error",
     "traceback": [
      "\u001b[1;31m---------------------------------------------------------------------------\u001b[0m",
      "\u001b[1;31mNameError\u001b[0m                                 Traceback (most recent call last)",
      "Cell \u001b[1;32mIn[2], line 2\u001b[0m\n\u001b[0;32m      1\u001b[0m \u001b[38;5;28mprint\u001b[39m(l)\n\u001b[1;32m----> 2\u001b[0m \u001b[38;5;28mprint\u001b[39m(b)\n",
      "\u001b[1;31mNameError\u001b[0m: name 'b' is not defined"
     ]
    }
   ],
   "source": [
    "print(l)\n",
    "print(b)"
   ]
  },
  {
   "cell_type": "raw",
   "id": "a2f5f8bf-0c15-400b-a55a-b147614112c1",
   "metadata": {},
   "source": [
    "\n",
    "\n",
    "    "
   ]
  },
  {
   "cell_type": "code",
   "execution_count": 3,
   "id": "04577f1f-f91a-4004-bba7-29bd076e3011",
   "metadata": {},
   "outputs": [
    {
     "name": "stdout",
     "output_type": "stream",
     "text": [
      "c\n",
      "c++\n",
      "java\n",
      "c#\n",
      "python\n"
     ]
    }
   ],
   "source": [
    "def language(lan = \"python\"):\n",
    "    print(lan)\n",
    "\n",
    "language(\"c\")\n",
    "language(\"c++\")\n",
    "language(\"java\")\n",
    "language(\"c#\")\n",
    "language()\n",
    "         "
   ]
  },
  {
   "cell_type": "code",
   "execution_count": 5,
   "id": "19d7bf8d-8f3a-429b-8fe2-f3f85928b1ed",
   "metadata": {},
   "outputs": [
    {
     "name": "stdout",
     "output_type": "stream",
     "text": [
      "c\n",
      "c++\n",
      "java\n",
      "c#\n",
      "\n"
     ]
    }
   ],
   "source": [
    "lan = \"python\"\n",
    "def language(lan = \"\"):\n",
    "    print(lan)\n",
    "\n",
    "language(\"c\")\n",
    "language(\"c++\")\n",
    "language(\"java\")\n",
    "language(\"c#\")\n",
    "language()\n",
    "         "
   ]
  },
  {
   "cell_type": "code",
   "execution_count": null,
   "id": "5089769a-3e09-4231-b587-a2beb03e678c",
   "metadata": {},
   "outputs": [],
   "source": []
  }
 ],
 "metadata": {
  "kernelspec": {
   "display_name": "Python 3 (ipykernel)",
   "language": "python",
   "name": "python3"
  },
  "language_info": {
   "codemirror_mode": {
    "name": "ipython",
    "version": 3
   },
   "file_extension": ".py",
   "mimetype": "text/x-python",
   "name": "python",
   "nbconvert_exporter": "python",
   "pygments_lexer": "ipython3",
   "version": "3.11.7"
  }
 },
 "nbformat": 4,
 "nbformat_minor": 5
}
