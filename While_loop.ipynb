{
 "cells": [
  {
   "cell_type": "code",
   "execution_count": null,
   "id": "0ec579a8-e21a-427c-b11a-d55e9c36ceaa",
   "metadata": {},
   "outputs": [],
   "source": [
    "#while loop\n"
   ]
  },
  {
   "cell_type": "code",
   "execution_count": null,
   "id": "7aa7c817-ffeb-42e4-91b3-7de3e17f5a74",
   "metadata": {},
   "outputs": [],
   "source": [
    "# while <condition>:\n",
    "#    <operation>\n",
    "    "
   ]
  },
  {
   "cell_type": "code",
   "execution_count": 1,
   "id": "ccc20fb7-9582-4695-b734-6021e63278ed",
   "metadata": {},
   "outputs": [
    {
     "name": "stdout",
     "output_type": "stream",
     "text": [
      "hello world\n",
      "hello world\n",
      "hello world\n",
      "hello world\n",
      "hello world\n",
      "hello world\n"
     ]
    }
   ],
   "source": [
    "a = 0\n",
    "while a <= 5:\n",
    "    print(\"hello world\")\n",
    "    a = a+1"
   ]
  },
  {
   "cell_type": "code",
   "execution_count": 2,
   "id": "e217e0fc-850a-4793-83b5-de7a96e42921",
   "metadata": {},
   "outputs": [
    {
     "name": "stdout",
     "output_type": "stream",
     "text": [
      "0 hello world\n",
      "1 hello world\n",
      "2 hello world\n",
      "3 hello world\n",
      "4 hello world\n",
      "5 hello world\n"
     ]
    }
   ],
   "source": [
    "a = 0\n",
    "while a <= 5:\n",
    "    print(a,\"hello world\")\n",
    "    a = a+1"
   ]
  },
  {
   "cell_type": "code",
   "execution_count": 4,
   "id": "3104d5d2-5687-4326-8caa-a9033b90dab1",
   "metadata": {},
   "outputs": [
    {
     "name": "stdout",
     "output_type": "stream",
     "text": [
      "1 hello world\n",
      "3 hello world\n",
      "5 hello world\n"
     ]
    }
   ],
   "source": [
    "a = 1\n",
    "while a <= 5:\n",
    "    print(a,\"hello world\")\n",
    "    a = a+2"
   ]
  },
  {
   "cell_type": "code",
   "execution_count": 6,
   "id": "d420c80a-2bb7-499f-98a0-79cf982a57c9",
   "metadata": {},
   "outputs": [
    {
     "name": "stdout",
     "output_type": "stream",
     "text": [
      "5 Hello World\n",
      "4 Hello World\n",
      "3 Hello World\n",
      "2 Hello World\n",
      "1 Hello World\n",
      "0 Hello World\n"
     ]
    }
   ],
   "source": [
    "a = 5\n",
    "while a>=0:\n",
    "    print(a,\"Hello World\")\n",
    "    a = a-1"
   ]
  },
  {
   "cell_type": "code",
   "execution_count": 7,
   "id": "12beb0c1-8f6b-497a-99e3-be258ce52060",
   "metadata": {},
   "outputs": [
    {
     "name": "stdin",
     "output_type": "stream",
     "text": [
      "Enter n =  5\n"
     ]
    },
    {
     "name": "stdout",
     "output_type": "stream",
     "text": [
      "5 * 1 = 5\n",
      "5 * 2 = 10\n",
      "5 * 3 = 15\n",
      "5 * 4 = 20\n",
      "5 * 5 = 25\n",
      "5 * 6 = 30\n",
      "5 * 7 = 35\n",
      "5 * 8 = 40\n",
      "5 * 9 = 45\n",
      "5 * 10 = 50\n"
     ]
    }
   ],
   "source": [
    "i = 1\n",
    "n = int(input(\"Enter n = \"))\n",
    "while i<=10:\n",
    "    print(n,\"*\",i,\"=\",n*i)\n",
    "    i = i+1\n"
   ]
  },
  {
   "cell_type": "code",
   "execution_count": 11,
   "id": "117670b5-0490-4ee7-8d92-5819b28de18d",
   "metadata": {},
   "outputs": [
    {
     "name": "stdin",
     "output_type": "stream",
     "text": [
      "Enter n =  5\n",
      "Enter x = 4\n",
      "Enter x = 6\n",
      "Enter x = 5\n",
      "Enter x = 6\n",
      "Enter x = 6\n"
     ]
    },
    {
     "name": "stdout",
     "output_type": "stream",
     "text": [
      "27\n"
     ]
    }
   ],
   "source": [
    "\n",
    "i = 0\n",
    "s = 0\n",
    "n = int(input(\"Enter n = \"))\n",
    "while i<n:\n",
    "    x = int(input(\"Enter x =\"))\n",
    "    s = s + x\n",
    "    i = i + 1\n",
    "\n",
    "print(s)"
   ]
  },
  {
   "cell_type": "code",
   "execution_count": 13,
   "id": "d5a25027-4401-4051-b9bc-b0ab8bd2c0f7",
   "metadata": {},
   "outputs": [
    {
     "name": "stdin",
     "output_type": "stream",
     "text": [
      "Enter n =  3\n",
      "Enter x = Ram\n",
      "Enter x = shyam\n",
      "Enter x = hari\n"
     ]
    },
    {
     "name": "stdout",
     "output_type": "stream",
     "text": [
      "Ram\n",
      "shyam\n",
      "hari\n",
      "\n"
     ]
    }
   ],
   "source": [
    "i = 0\n",
    "s = \"\"\n",
    "n = int(input(\"Enter n = \"))\n",
    "while i<n:\n",
    "    x = input(\"Enter x =\")\n",
    "    s = s + x + \"\\n\"\n",
    "    i = i + 1\n",
    "\n",
    "print(s)"
   ]
  },
  {
   "cell_type": "code",
   "execution_count": 14,
   "id": "b83b25bf-bcce-46a4-8dcb-d3b6ac9342d4",
   "metadata": {},
   "outputs": [],
   "source": [
    "# factorial\n",
    "# 5! = 1*2*3*4*5"
   ]
  },
  {
   "cell_type": "code",
   "execution_count": 15,
   "id": "65b2af9a-0699-4350-8e8a-ee31d93cb3bd",
   "metadata": {},
   "outputs": [
    {
     "name": "stdin",
     "output_type": "stream",
     "text": [
      "enter n =  5\n"
     ]
    },
    {
     "name": "stdout",
     "output_type": "stream",
     "text": [
      "120\n"
     ]
    }
   ],
   "source": [
    "i = 1\n",
    "fac = 1\n",
    "n = int(input(\"enter n = \"))\n",
    "while i<=n:\n",
    "    fac = fac * i\n",
    "    i = i +1\n",
    "\n",
    "print(fac)\n",
    "    \n"
   ]
  },
  {
   "cell_type": "code",
   "execution_count": 16,
   "id": "3473dbb9-ac53-46a6-9a50-ed15dedf9c49",
   "metadata": {},
   "outputs": [],
   "source": [
    "# control statement\n",
    "# break\n",
    "# continue\n",
    "# pass"
   ]
  },
  {
   "cell_type": "code",
   "execution_count": 17,
   "id": "6d6870a9-d528-4b53-baf6-278318438b09",
   "metadata": {},
   "outputs": [
    {
     "name": "stdout",
     "output_type": "stream",
     "text": [
      "0\n",
      "1\n",
      "2\n",
      "3\n",
      "4\n"
     ]
    }
   ],
   "source": [
    "i = 0\n",
    "while i<=10:\n",
    "    if i == 5:\n",
    "        break\n",
    "    print(i)\n",
    "    i = i + 1"
   ]
  },
  {
   "cell_type": "code",
   "execution_count": 2,
   "id": "e21b38ba-d99a-46b2-8f91-7fbd40981285",
   "metadata": {},
   "outputs": [
    {
     "name": "stdout",
     "output_type": "stream",
     "text": [
      "0 1 2 3 4 6 7 8 9 10 "
     ]
    }
   ],
   "source": [
    "i = 0\n",
    "while i<=10:\n",
    "    if i == 5:\n",
    "        i = i + 1\n",
    "        continue\n",
    "    print(i, end = \" \")\n",
    "    i = i + 1"
   ]
  },
  {
   "cell_type": "code",
   "execution_count": 3,
   "id": "206caa63-eda1-4a9c-af58-cf2a2637c525",
   "metadata": {},
   "outputs": [],
   "source": [
    "# for else loop"
   ]
  },
  {
   "cell_type": "code",
   "execution_count": 4,
   "id": "3a303511-0f72-4e51-a49d-70fceb7e456c",
   "metadata": {},
   "outputs": [],
   "source": [
    "#prime no : 2,3,5,7,11,13,17,19\n",
    "#composite no : 4,6,8,9,10,12\n"
   ]
  },
  {
   "cell_type": "code",
   "execution_count": 8,
   "id": "22e21eae-0e8f-44ef-ba50-768fb6147ef4",
   "metadata": {},
   "outputs": [
    {
     "name": "stdin",
     "output_type": "stream",
     "text": [
      "Enter n =  9\n"
     ]
    },
    {
     "name": "stdout",
     "output_type": "stream",
     "text": [
      "composite no\n",
      "prime no\n"
     ]
    }
   ],
   "source": [
    "n = int(input(\"Enter n = \"))\n",
    "for i in range(2,n):\n",
    "    if n%i==0:\n",
    "        print(\"composite no\")\n",
    "\n",
    "else:\n",
    "    print(\"prime no\")\n"
   ]
  },
  {
   "cell_type": "code",
   "execution_count": 7,
   "id": "6e08fcf2-b66b-49ef-9c89-0e8aaf35b587",
   "metadata": {},
   "outputs": [
    {
     "name": "stdin",
     "output_type": "stream",
     "text": [
      "Enter n =  9\n"
     ]
    },
    {
     "name": "stdout",
     "output_type": "stream",
     "text": [
      "composite no\n"
     ]
    }
   ],
   "source": [
    "n = int(input(\"Enter n = \"))\n",
    "for i in range(2,n):\n",
    "    if n%i==0:\n",
    "        print(\"composite no\")\n",
    "        break\n",
    "\n",
    "else:\n",
    "    print(\"prime no\")\n"
   ]
  },
  {
   "cell_type": "code",
   "execution_count": 9,
   "id": "db201843-6e73-42e5-b453-df153f0e6445",
   "metadata": {},
   "outputs": [],
   "source": [
    "# Next string"
   ]
  },
  {
   "cell_type": "code",
   "execution_count": null,
   "id": "3ba748df-7545-449e-8485-12b63890bc1d",
   "metadata": {},
   "outputs": [],
   "source": []
  }
 ],
 "metadata": {
  "kernelspec": {
   "display_name": "Python 3 (ipykernel)",
   "language": "python",
   "name": "python3"
  },
  "language_info": {
   "codemirror_mode": {
    "name": "ipython",
    "version": 3
   },
   "file_extension": ".py",
   "mimetype": "text/x-python",
   "name": "python",
   "nbconvert_exporter": "python",
   "pygments_lexer": "ipython3",
   "version": "3.11.7"
  }
 },
 "nbformat": 4,
 "nbformat_minor": 5
}
