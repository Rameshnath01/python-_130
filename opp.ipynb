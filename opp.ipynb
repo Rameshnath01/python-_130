{
 "cells": [
  {
   "cell_type": "code",
   "execution_count": 2,
   "id": "a6d9fc59-a574-4569-a7ea-aad72093c085",
   "metadata": {},
   "outputs": [
    {
     "name": "stdout",
     "output_type": "stream",
     "text": [
      "Hello World\n"
     ]
    }
   ],
   "source": [
    "class Hello:              # class\n",
    "    def hello(self):          #method\n",
    "        print(\"Hello World\")\n",
    "\n",
    "obj = Hello()              #object\n",
    "obj.hello()                #class method\n"
   ]
  },
  {
   "cell_type": "code",
   "execution_count": 3,
   "id": "306fb16a-bd97-4ca9-b111-79e16d94def6",
   "metadata": {},
   "outputs": [
    {
     "name": "stdout",
     "output_type": "stream",
     "text": [
      "Hello World\n"
     ]
    }
   ],
   "source": [
    "class Hello:              # class\n",
    "    @staticmethod\n",
    "    def hello():          #method\n",
    "        print(\"Hello World\")\n",
    "\n",
    "obj = Hello()              #object\n",
    "obj.hello()                #class method\n"
   ]
  },
  {
   "cell_type": "code",
   "execution_count": 10,
   "id": "9c293610-bf31-4193-90f7-02d64ac2206e",
   "metadata": {},
   "outputs": [
    {
     "name": "stdout",
     "output_type": "stream",
     "text": [
      "150\n"
     ]
    }
   ],
   "source": [
    "class Area:\n",
    "    @staticmethod\n",
    "    def area(l,b):\n",
    "        a = l*b\n",
    "        print(a)\n",
    "\n",
    "obj = Area()\n",
    "l = 30\n",
    "b = 5\n",
    "obj.area(l,b)\n",
    "    "
   ]
  },
  {
   "cell_type": "code",
   "execution_count": 3,
   "id": "20178cd8-5a36-4f62-bcdd-0c2dc2d91224",
   "metadata": {},
   "outputs": [
    {
     "name": "stdout",
     "output_type": "stream",
     "text": [
      "100\n"
     ]
    }
   ],
   "source": [
    "class Area:\n",
    "    def __init__(self,l,b):\n",
    "        self.l = l\n",
    "        self.b = b\n",
    "        \n",
    "    def area(self):\n",
    "        a = self.l*self.b\n",
    "        print(a)\n",
    "        \n",
    "l = 20\n",
    "b = 5\n",
    "obj = Area(l,b)\n",
    "obj.area()\n",
    "    "
   ]
  },
  {
   "cell_type": "code",
   "execution_count": 6,
   "id": "c2599878-8d7a-4db7-9ef4-a1be31a87840",
   "metadata": {},
   "outputs": [
    {
     "name": "stdout",
     "output_type": "stream",
     "text": [
      "100\n",
      "200\n"
     ]
    }
   ],
   "source": [
    "class cal:\n",
    "    def __init__(self,l,b,h):\n",
    "        self.l = l\n",
    "        self.b = b\n",
    "        self.h = h\n",
    "\n",
    "    def area(self):\n",
    "        a = self.l*self.b\n",
    "        print(a)\n",
    "\n",
    "    def volume(self):\n",
    "        v = self.l*self.b*self.h\n",
    "        print(v)\n",
    "\n",
    "l = 20\n",
    "b = 5\n",
    "h = 2\n",
    "obj = cal(l,b,h)\n",
    "obj.area()\n",
    "obj.volume()\n",
    "    "
   ]
  },
  {
   "cell_type": "code",
   "execution_count": 8,
   "id": "d656d609-2ddd-4c97-a738-2149151a49e5",
   "metadata": {},
   "outputs": [
    {
     "name": "stdin",
     "output_type": "stream",
     "text": [
      "Enter l =  20\n",
      "Enter b =  30\n",
      "Enter h =  3\n"
     ]
    },
    {
     "name": "stdout",
     "output_type": "stream",
     "text": [
      "600\n",
      "1800\n"
     ]
    }
   ],
   "source": [
    "class cal:\n",
    "    def __init__(self):\n",
    "        self.l = int(input(\"Enter l = \"))\n",
    "        self.b = int(input(\"Enter b = \"))\n",
    "        self.h = int(input(\"Enter h = \"))\n",
    "\n",
    "    def area(self):\n",
    "        a = self.l*self.b\n",
    "        print(a)\n",
    "\n",
    "    def volume(self):\n",
    "        v = self.l*self.b*self.h\n",
    "        print(v)\n",
    "\n",
    "\n",
    "obj = cal()\n",
    "obj.area()\n",
    "obj.volume()\n",
    "    "
   ]
  },
  {
   "cell_type": "code",
   "execution_count": 2,
   "id": "54bdfdfb-fa1b-4305-84e3-8d0ccb74e77b",
   "metadata": {},
   "outputs": [
    {
     "name": "stdin",
     "output_type": "stream",
     "text": [
      "Enter l =  200\n",
      "Enter b =  32\n",
      "Enter h =  12\n"
     ]
    },
    {
     "name": "stdout",
     "output_type": "stream",
     "text": [
      "6400\n",
      "76800\n"
     ]
    }
   ],
   "source": [
    "class Area:\n",
    "    def __init__(self,l,b):\n",
    "        self.l = l\n",
    "        self.b = b\n",
    "        \n",
    "    def area(self):\n",
    "        a = self.l*self.b\n",
    "        print(a)\n",
    "        \n",
    "class  Volume:\n",
    "     def __init__(self,l,b,h):\n",
    "        self.l = l\n",
    "        self.b = b\n",
    "        self.h = h\n",
    "     def volume(self):\n",
    "        v = self.l*self.b*self.h\n",
    "        print(v)\n",
    "         \n",
    "l = int(input(\"Enter l = \"))\n",
    "b = int(input(\"Enter b = \"))\n",
    "h = int(input(\"Enter h = \"))\n",
    "\n",
    "\n",
    "obj1 = Area(l,b)\n",
    "obj2 = Volume(l,b,h)\n",
    "obj1.area()\n",
    "obj2.volume()\n",
    "    "
   ]
  },
  {
   "cell_type": "code",
   "execution_count": 2,
   "id": "201d4eaa-a936-49ae-a00d-db7ece627ce2",
   "metadata": {},
   "outputs": [
    {
     "name": "stdout",
     "output_type": "stream",
     "text": [
      "Ram\n",
      "<class '__main__.Info'>\n"
     ]
    }
   ],
   "source": [
    "# str method\n",
    "class Info:\n",
    "    def __init__(self):\n",
    "        self.name = \"Ram\"\n",
    "        self.age = 24\n",
    "        self.add = \"KTM\"\n",
    "\n",
    "    def __str__(self):\n",
    "        return self.name\n",
    "\n",
    "obj = Info()\n",
    "print(obj)\n",
    "print(type(obj))\n",
    "        \n",
    "    "
   ]
  },
  {
   "cell_type": "code",
   "execution_count": 3,
   "id": "ea261d16-1ba4-41bb-a47d-b3ea537d839e",
   "metadata": {},
   "outputs": [
    {
     "data": {
      "text/plain": [
       "'Ram'"
      ]
     },
     "execution_count": 3,
     "metadata": {},
     "output_type": "execute_result"
    }
   ],
   "source": [
    "# to get value in string\n",
    "obj.__str__()"
   ]
  },
  {
   "cell_type": "code",
   "execution_count": 4,
   "id": "fd11c6be-87b8-4aa5-8b02-eff16d2e37f6",
   "metadata": {},
   "outputs": [
    {
     "name": "stdout",
     "output_type": "stream",
     "text": [
      "Ram\n"
     ]
    }
   ],
   "source": [
    "print(str(obj))"
   ]
  },
  {
   "cell_type": "code",
   "execution_count": 7,
   "id": "1be6a561-f13b-4590-96c4-354ac6355659",
   "metadata": {},
   "outputs": [
    {
     "name": "stdout",
     "output_type": "stream",
     "text": [
      "This is a init method 1000\n",
      "This is a init method 2000\n",
      "This is a init method 2500\n",
      "This is a add method  3000\n",
      "This is a init method 3000\n",
      "This is a add method  5500\n",
      "This is a init method 5500\n",
      "This is a str method 5500\n",
      "5500\n"
     ]
    }
   ],
   "source": [
    "class point:\n",
    "    def __init__(self,x = 0):\n",
    "        self.x = x\n",
    "        print(\"This is a init method\",self.x)\n",
    "\n",
    "    def __str__ (self):\n",
    "        print(\"This is a str method\",self.x)\n",
    "        return str(self.x)\n",
    "\n",
    "    def __add__(self,other):\n",
    "        x = self.x + other.x\n",
    "        print(\"This is a add method \",x)\n",
    "        return point(x)\n",
    "\n",
    "p1 = point(1000)\n",
    "p2 = point(2000)\n",
    "p3 = point(2500)\n",
    "print(p1 + p2 + p3)\n",
    "        "
   ]
  },
  {
   "cell_type": "code",
   "execution_count": 12,
   "id": "def3ff0a-4707-4e82-888a-26d93bd8fb6f",
   "metadata": {},
   "outputs": [
    {
     "name": "stdout",
     "output_type": "stream",
     "text": [
      "parrot can fly\n",
      "penguin can't fly\n"
     ]
    }
   ],
   "source": [
    "class parrot:\n",
    "    def fly(self):\n",
    "        print(\"parrot can fly\")\n",
    "\n",
    "    def swim(self):\n",
    "        print(\"parrot can't fly\")\n",
    "\n",
    "class penguin:\n",
    "    def fly(self):\n",
    "        print(\"penguin can't fly\")\n",
    "\n",
    "    def swim(self):\n",
    "        print(\"punguin can swim\")\n",
    "\n",
    "# common interface\n",
    "def flying_test(bird):\n",
    "    bird.fly()\n",
    "\n",
    "# instantiate objects\n",
    "blu = parrot()\n",
    "peggy = penguin()\n",
    "# passing an object\n",
    "flying_test(blu)\n",
    "flying_test(peggy)"
   ]
  },
  {
   "cell_type": "code",
   "execution_count": null,
   "id": "0a28c31b-51cf-4e06-8a0b-7de8e3e4c23f",
   "metadata": {},
   "outputs": [],
   "source": []
  }
 ],
 "metadata": {
  "kernelspec": {
   "display_name": "Python 3 (ipykernel)",
   "language": "python",
   "name": "python3"
  },
  "language_info": {
   "codemirror_mode": {
    "name": "ipython",
    "version": 3
   },
   "file_extension": ".py",
   "mimetype": "text/x-python",
   "name": "python",
   "nbconvert_exporter": "python",
   "pygments_lexer": "ipython3",
   "version": "3.11.7"
  }
 },
 "nbformat": 4,
 "nbformat_minor": 5
}
